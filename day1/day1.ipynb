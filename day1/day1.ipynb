{
 "metadata": {
  "language_info": {
   "codemirror_mode": {
    "name": "ipython",
    "version": 3
   },
   "file_extension": ".py",
   "mimetype": "text/x-python",
   "name": "python",
   "nbconvert_exporter": "python",
   "pygments_lexer": "ipython3",
   "version": "3.8.6-final"
  },
  "orig_nbformat": 2,
  "kernelspec": {
   "name": "python3",
   "display_name": "Python 3.8.6 64-bit",
   "metadata": {
    "interpreter": {
     "hash": "9471c033daa1c251df57524fd8656119407358c8f5b7b41df92055e7d9a1728f"
    }
   }
  }
 },
 "nbformat": 4,
 "nbformat_minor": 2,
 "cells": [
  {
   "cell_type": "code",
   "execution_count": 1,
   "metadata": {},
   "outputs": [],
   "source": [
    "number_input = [ 1211, 1698, 1787, 1947, 1888, 444, 1819, 1890, 1940, 1884, 1917, 1814, 1724, 1561, 1823, 1266, 1982, 1826, 1871, 1692, 1665, 1081, 1847, 640, 1861, 1632, 1916, 1921, 1450, 1806, 1950, 1969, 1757, 1766, 1799, 422, 1865, 1934, 1954, 1640, 1743, 1812, 1745, 1574, 1904, 1510, 1491, 1977, 1727, 1979, 1842, 1784, 1655, 1991, 1296, 1849, 1863, 1886, 1696, 1716, 1679, 1848, 1540, 1780, 1926, 1986, 1898, 1448, 315, 1568, 1869, 1875, 2010, 1268, 1892, 1248, 1746, 1987, 1963, 20, 1575, 1827, 1653, 1851, 1365, 1599, 1688, 1943, 1677, 1320, 154, 1490, 1737, 1573, 1908, 1667, 1151, 1761, 1587, 1924, 1941, 1731, 1669, 1857, 1723, 1880, 1970, 1791, 1928, 1942, 1816, 1989, 1832, 1911, 1711, 1817, 1893, 896, 1998, 1720, 317, 1964, 1379, 1750, 1971, 1322, 1992, 1347, 1608, 1373, 1668, 1252, 373, 1968, 1754, 1709, 1988, 1946, 1537, 1758, 1830, 624, 1694, 1914, 1867, 1145, 1973, 1769, 1773, 1424, 1777, 1659, 1789, 1907, 1201, 1967, 1682, 1952, 1978, 1937, 1974, 1488, 1896, 1657, 1420, 1935, 1778, 1822, 1703, 2003, 119, 1149, 1732, 1878, 1938, 1918, 1797, 1836, 1741, 1579, 1589, 1999, 1772, 1853, 1793, 1768, 1759, 1216, 1765, 1944, 1735, 1580, 1756, 1308, 1786, 1962, 1981, 1156, 1948, 1894]"
   ]
  },
  {
   "cell_type": "code",
   "execution_count": 6,
   "metadata": {},
   "outputs": [
    {
     "output_type": "stream",
     "name": "stdout",
     "text": [
      "539851\nWall time: 999 µs\n"
     ]
    }
   ],
   "source": [
    "%%time\n",
    "for i, v in enumerate(number_input):\n",
    "    for r in number_input[i:]:\n",
    "        if v + r == 2020:\n",
    "            print(v*r)"
   ]
  },
  {
   "cell_type": "code",
   "execution_count": 7,
   "metadata": {},
   "outputs": [],
   "source": [
    "from collections import deque"
   ]
  },
  {
   "cell_type": "code",
   "execution_count": 8,
   "metadata": {},
   "outputs": [],
   "source": [
    "def find_target(values, target):\n",
    "\n",
    "    dq = deque(sorted([(val, idx) for idx, val in enumerate(values)]))\n",
    "\n",
    "    while True:\n",
    "        if len(dq) < 2:\n",
    "            raise ValueError('No match found')\n",
    "\n",
    "        s =  dq[0][0] + dq[-1][0]\n",
    "\n",
    "        if s > target:\n",
    "            dq.pop()\n",
    "        elif s < target:\n",
    "            dq.popleft()  \n",
    "        else:\n",
    "            break\n",
    "    return dq[0], dq[-1]\n",
    "\n",
    "\n",
    "\n"
   ]
  },
  {
   "cell_type": "code",
   "execution_count": 10,
   "metadata": {},
   "outputs": [
    {
     "output_type": "stream",
     "name": "stdout",
     "text": [
      "((317, 120), (1703, 168))\n539851\nWall time: 0 ns\n"
     ]
    }
   ],
   "source": [
    "%%time\n",
    "sol = find_target(number_input, 2020)\n",
    "\n",
    "print(sol)\n",
    "# ((11, 3), (16, 7))\n",
    "# 11 + 16 == 27, indices 3 and 7\n",
    "\n",
    "print(sol[0][0] * sol[1][0])"
   ]
  }
 ]
}
{
 "metadata": {
  "language_info": {
   "codemirror_mode": {
    "name": "ipython",
    "version": 3
   },
   "file_extension": ".py",
   "mimetype": "text/x-python",
   "name": "python",
   "nbconvert_exporter": "python",
   "pygments_lexer": "ipython3",
   "version": "3.8.6-final"
  },
  "orig_nbformat": 2,
  "kernelspec": {
   "name": "python3",
   "display_name": "Python 3.8.6 64-bit",
   "metadata": {
    "interpreter": {
     "hash": "9471c033daa1c251df57524fd8656119407358c8f5b7b41df92055e7d9a1728f"
    }
   }
  }
 },
 "nbformat": 4,
 "nbformat_minor": 2,
 "cells": [
  {
   "cell_type": "code",
   "execution_count": 22,
   "metadata": {
    "tags": []
   },
   "outputs": [
    {
     "output_type": "stream",
     "name": "stdout",
     "text": [
      "2.26 ms ± 16.8 µs per loop (mean ± std. dev. of 7 runs, 100 loops each)\n"
     ]
    }
   ],
   "source": [
    "%%timeit\n",
    "\n",
    "from collections import Counter\n",
    "\n",
    "def validate(text: str, letter: str, min_occurence: int, max_occurent: int) -> bool:\n",
    "    occurent = Counter(text).get(letter)\n",
    "    if not occurent:\n",
    "        # print(f\"Cannot find {letter} in {text}\")\n",
    "        return False\n",
    "    \n",
    "    if (min_occurence <= occurent and occurent <= max_occurent):\n",
    "        return True\n",
    "    # print(f\"Letter {letter} appear {occurent} but has to be {min_occurence} < {occurent} < {max_occurent} in string {text}\")\n",
    "    return False\n",
    "\n",
    "count = 0\n",
    "with open(\"input.txt\") as f:\n",
    "    while True:\n",
    "        line = f.readline()\n",
    "        if not line:\n",
    "            break\n",
    "        line = line.split(\" \")\n",
    "        min_occurence, max_occurent = line[0].split(\"-\")\n",
    "        letter = line[1][0]\n",
    "        # print(line)\n",
    "        if validate(line[-1], letter, int(min_occurence), int(max_occurent)):\n",
    "            count += 1\n",
    "    "
   ]
  },
  {
   "cell_type": "code",
   "execution_count": 23,
   "metadata": {},
   "outputs": [
    {
     "output_type": "execute_result",
     "data": {
      "text/plain": [
       "439"
      ]
     },
     "metadata": {},
     "execution_count": 23
    }
   ],
   "source": [
    "count"
   ]
  }
 ]
}